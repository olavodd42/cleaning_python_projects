











import csv
import glob
import os
import pandas as pd
import numpy as np
import matplotlib.pyplot as plt
%matplotlib inline

with open('states0.csv') as f:
    reader = csv.DictReader(f)
    for row in reader:
        print(row)


with open('states1.csv') as f:
    reader = csv.DictReader(f)
    for row in reader:
        print(row)







# 1. Load all CSV files matching states*.csv using glob and list comprehension
files = glob.glob('states*.csv')
dfs = [pd.read_csv(file) for file in files]
us_census = pd.concat(dfs, ignore_index=True)

us_census.head()





print(us_census.columns)
print(us_census.dtypes)








print(us_census.head())








# 2. Clean the Income column: remove '$' and ',' then convert to numeric
us_census['Income'] = us_census['Income'].str.replace('[$,]', '', regex=True).astype(float)
print(us_census.head())





# 4. Extract gender data using regex (assumes GenderPop is like "12345M_67890F")
splittedGenderPop = us_census.GenderPop.str.split('[(M_)F]', expand=True)
print(splittedGenderPop)


us_census['Men'] = splittedGenderPop.get(0)
us_census['Women'] = splittedGenderPop.get(2)
us_census.head()





us_census.Men = pd.to_numeric(us_census.Men)
us_census.Women = pd.to_numeric(us_census.Women)
print(us_census.dtypes)





plt.figure(figsize=(15, 10))
plt.scatter('Women', 'Income', data=us_census)
plt.ylabel('Income ($)')
plt.xlabel('Number of womens')
plt.title('Income vs. Women Population')
plt.show()
plt.close()





print(us_census.isna().sum())


# 6. Fill missing Women values with TotalPop minus Men and convert to integer
us_census['Women'].fillna(us_census['TotalPop'] - us_census['Men'], inplace=True)
us_census['Women'] = us_census['Women'].astype('int64')
print(us_census.isna().sum())


us_census.Women





us_census.duplicated().value_counts()


us_census.dtypes





# 6. Drop duplicates and unused columns
us_census.drop_duplicates(inplace=True)
us_census.drop(['Unnamed: 0', 'GenderPop'], axis=1, inplace=True, errors='ignore')









plt.figure(figsize=(15, 10))
plt.scatter('Women', 'Income', data=us_census)
plt.ylabel('Income ($)')
plt.xlabel('Number of womens')
plt.title('Income vs. Women Population')
plt.show()
plt.close()








us_census.columns





us_census.dtypes


us_census.Hispanic


race_columns = ['Hispanic', 'White', 'Black', 'Native', 'Asian', 'Pacific']
for col in race_columns:
    us_census[col] = us_census[col].str.rstrip('%').astype(float)


us_census.dtypes


us_census.head()


def plot_histogram(data, name, ax):
    ax.hist(f'{name}', data=data)
    ax.set_xlabel(f'{name} percentage (%)')
    ax.set_ylabel('Frequency')
    ax.set_title(f'{name} distribution on the US')

fig, axs = plt.subplots(nrows=3, ncols=2, figsize=(15, 12))
for ax, col in zip(axs.flatten(), race_columns):
    plot_histogram(us_census, col, ax)
plt.tight_layout()
plt.show()
plt.close()









us_census.head()


us_census.columns



us_census.isna().sum()


us_census.Pacific.fillna(us_census['TotalPop'] - (us_census['Hispanic'] + us_census['White'] + us_census['Black'] + us_census['Asian'] + us_census['Native']), inplace=True)
us_census.isna().sum()


fig, ax = plt.subplots(nrows=3, ncols=2, figsize=(15, 12))
plot_histogram(us_census, name='Hispanic', ax=ax[0, 0])
plot_histogram(us_census, name='White', ax=ax[0, 1])
plot_histogram(us_census, name='Black', ax=ax[1, 0])
plot_histogram(us_census, name='Native', ax=ax[1, 1])
plot_histogram(us_census, name='Asian', ax=ax[2, 0])
plot_histogram(us_census, name='Pacific', ax=ax[2, 1])
plt.subplots_adjust(hspace=0.5)
plt.show()
plt.close()


us_census.duplicated().value_counts()


us_census.drop_duplicates(inplace=True)
us_census.duplicated().value_counts()


fig, ax = plt.subplots(nrows=3, ncols=2, figsize=(15, 12))
plot_histogram(us_census, name='Hispanic', ax=ax[0, 0])
plot_histogram(us_census, name='White', ax=ax[0, 1])
plot_histogram(us_census, name='Black', ax=ax[1, 0])
plot_histogram(us_census, name='Native', ax=ax[1, 1])
plot_histogram(us_census, name='Asian', ax=ax[2, 0])
plot_histogram(us_census, name='Pacific', ax=ax[2, 1])
plt.subplots_adjust(hspace=0.5)
plt.show()
plt.close()


plt.figure(figsize=(15, 10))
plt.scatter('Women', 'Income', data=us_census)
plt.ylabel('Income ($)')
plt.xlabel('Number of womens')
plt.title('Income vs. Women Population')
plt.show()
plt.close()



