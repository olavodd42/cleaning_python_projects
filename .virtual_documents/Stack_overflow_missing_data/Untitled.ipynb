import pandas as pd

df = pd.read_csv('developer_dataset.csv')

print(df.columns)



